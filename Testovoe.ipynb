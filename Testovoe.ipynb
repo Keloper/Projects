{
 "cells": [
  {
   "cell_type": "code",
   "execution_count": 9,
   "id": "e73b79f5",
   "metadata": {},
   "outputs": [],
   "source": [
    "import numpy as np\n",
    "import pandas as pd \n",
    "import os \n",
    "import seaborn as sns "
   ]
  },
  {
   "cell_type": "code",
   "execution_count": 2,
   "id": "c930626f",
   "metadata": {},
   "outputs": [],
   "source": [
    "bills =[466,481,744,709,1922,57,329,42,314,257,274,83,44,813,217,538,17,83,458,52,71,216,424,30,249,571,163,192,179,1819,77,121,679,135,67,467,93,119,152,722,612,308,39,110,445,235,78,292,303,571,745,238,517,116,22,183,149,629,881,857,103,443,143,251,3851,391,571,78,68,110,327,167,83,39,108,161,359,424,95,67,288,3163,83,344,629,733,124,119,481,554,17,599,405,371,30,454,245,539,119,142,554,159,454,219,62,452,467,560,250,75,42,107,428,554,263,359,54,71,53,90,803,143,1166,18,415,83,305,730,439,122,3348,427,109,319,182,593,552,465,83,368,571,353,379,74,83,268,2464,83,158,530,527,159,191,253,419,52,80,314,283,981,1122,17,106,938,369,419,583,949,52,263,502,524,108,128,749,198,359,501,17,140,554,3032,1129,224,483,571,68,96,290,55,83,59,345,119,808,329,233,143,144,141,176,170,799,19,174,39,808,795,71,558,315,453,163,37,52,94,180,71,173,242,125,186,62,506,250,141,389,591,89,100,467,35,114,187,439,83,233,36,358,439,158,52,291,42,23,148,19,72,272,1250,136,145,406,315,149,57,656,23,398,599,504,337,219,333,448,651,83,67,28,215,134,167,4587,68,52,527,233,374,43,38,308,349,776,44,324,454,653,656,51,39,183,463,723,99,288,17,39,333,300,410,29,99,438,83,83,106,818,102,67,192,97,786,571,503,349,171,866,484,67,108,133,571,110,116,404,171,67,231,100,571,271,359,3416,510,588,454,211,571,285,305,17,183,53,156,810,90,117,218,159,27,39,172,373,302,467,185,162,226,52,78,2099,23,844,430,163,701,59,115,61,472,243,245,752,42,571,620,141,18,33,27,47,114,171,439,504,35,793,570,117,136,631,75,660,19,536,439,308,1848,219,78,405,331,500,285,108,585,274,112,539,454,717,659,677,29,47,415,119,339,107,198,42,150,316,607,301,136,52,1267,79,592,483,144,538,17,203,709,158,83,414,42,561,309,79,237,450,140,163,52,17,378,39,205,102,375,63,37,82,172,82,252,199,508,17,449,219,291,141,119,881,77,67,13,180,286,5008,1696,571,359,717,349,454,302,454,635,255,599,804,239,52,329,63,142,107,454,100,484,39,130,147,81,826,185,3158,239,219,42,345,68,113,506,755,448,358,881,17,876,215,308,33,241,439,358,42,191,146,17,153,439,174,439,1428,833,212,50,110,389,191,61,274,91,77,97,344,612,46,395,41,677,71,415,74,52,1116,83,78,29,52,1064,81,64,387,135,66,234,71,271,219,52,79,1420,228,35,6071,149,120,191,333,233,153,119,201,67,583,349,483,17,778,243,67,164,58,204,273,236,876,208,17,143,58,158,969,238,119,1018,629,17,176,774,183,343,245,75,461,39,66,645,208,207,83,319,409,52,808,833,417,507,439,122,143,329,348,203,184,113,1414,200,927,503,329,349,74,45,389,260,439,669,272,187,377,499,57,4675,139,746,77,17,367,125,41,451,137,227,266,18,516,522,557,163,350,439,439,112,329,136,163,57,19,40,179,284,193,108,219,19,389,137,58,56,422,274,135,571,534,136,709,183,83,44,337,117,27,153,68,167,132,96,775,234,123,55,99,52,102,188,527,389,70,52,1340,454,186,55,388,149,227,263,66,29,133,624,6187,153,108,263,119,219,94,191,83,127,52,54,52,582,242,152,201,359,308,8658,75,67,349,422,89,52,59,577,188,68,59,136,4,298,268,179,52,46,493,645,67,439,68,103,459,371,361,562,283,206,92,373,266,57,42,79,74,112,266,107,104,128,19,349,349,2475,550,14,78,57,273,48,483,313,709,43,390,460,18,463,114,571,353,19,19,276,265,102,255,324,113,14,43,2252,571,490,1404,527,454,1428,99,39,140,5237,52,128,561,68,391,389,133,1343,320,329,213,253,167,249,249,496,220,173,439,337,274,492,571,28,149,145,68,1130,405,47,360,1126,9454,110,253,289,289,349,404,240,107,573,18,776,219,158,512,728,122,492,59,1995,109,452,60,404,329,237,799,190,396,1358,75,33,674,281,39,43,42,174,188,439,313,83,301,18,67,244,634,68,233,52,57,136,433,103,258,227,818,83,68,78,19,35,63,413,224,1043,71,301,31,464,292,191,50,379,1096,213,660,143,172,466,369,263,17,101,6266,50,102,449,128,236,220,79,379,387,163,421,52,506,67,435,439,583,17,559,321,325,1567,527,133,440,420,1288,144,314,285,764,231,379,14,66,349,163,465,39,448,701,248,199,77,7339,18,182,578,39]"
   ]
  },
  {
   "cell_type": "code",
   "execution_count": 4,
   "id": "2331299f",
   "metadata": {},
   "outputs": [],
   "source": [
    "df = pd.DataFrame(bills)"
   ]
  },
  {
   "cell_type": "code",
   "execution_count": 6,
   "id": "e0a320af",
   "metadata": {},
   "outputs": [],
   "source": [
    "df = df.rename(columns={0:'number'})"
   ]
  },
  {
   "cell_type": "code",
   "execution_count": 7,
   "id": "38d53ff1",
   "metadata": {
    "scrolled": true
   },
   "outputs": [
    {
     "data": {
      "text/html": [
       "<div>\n",
       "<style scoped>\n",
       "    .dataframe tbody tr th:only-of-type {\n",
       "        vertical-align: middle;\n",
       "    }\n",
       "\n",
       "    .dataframe tbody tr th {\n",
       "        vertical-align: top;\n",
       "    }\n",
       "\n",
       "    .dataframe thead th {\n",
       "        text-align: right;\n",
       "    }\n",
       "</style>\n",
       "<table border=\"1\" class=\"dataframe\">\n",
       "  <thead>\n",
       "    <tr style=\"text-align: right;\">\n",
       "      <th></th>\n",
       "      <th>number</th>\n",
       "    </tr>\n",
       "  </thead>\n",
       "  <tbody>\n",
       "    <tr>\n",
       "      <th>0</th>\n",
       "      <td>466</td>\n",
       "    </tr>\n",
       "    <tr>\n",
       "      <th>1</th>\n",
       "      <td>481</td>\n",
       "    </tr>\n",
       "    <tr>\n",
       "      <th>2</th>\n",
       "      <td>744</td>\n",
       "    </tr>\n",
       "    <tr>\n",
       "      <th>3</th>\n",
       "      <td>709</td>\n",
       "    </tr>\n",
       "    <tr>\n",
       "      <th>4</th>\n",
       "      <td>1922</td>\n",
       "    </tr>\n",
       "    <tr>\n",
       "      <th>...</th>\n",
       "      <td>...</td>\n",
       "    </tr>\n",
       "    <tr>\n",
       "      <th>995</th>\n",
       "      <td>7339</td>\n",
       "    </tr>\n",
       "    <tr>\n",
       "      <th>996</th>\n",
       "      <td>18</td>\n",
       "    </tr>\n",
       "    <tr>\n",
       "      <th>997</th>\n",
       "      <td>182</td>\n",
       "    </tr>\n",
       "    <tr>\n",
       "      <th>998</th>\n",
       "      <td>578</td>\n",
       "    </tr>\n",
       "    <tr>\n",
       "      <th>999</th>\n",
       "      <td>39</td>\n",
       "    </tr>\n",
       "  </tbody>\n",
       "</table>\n",
       "<p>1000 rows × 1 columns</p>\n",
       "</div>"
      ],
      "text/plain": [
       "     number\n",
       "0       466\n",
       "1       481\n",
       "2       744\n",
       "3       709\n",
       "4      1922\n",
       "..      ...\n",
       "995    7339\n",
       "996      18\n",
       "997     182\n",
       "998     578\n",
       "999      39\n",
       "\n",
       "[1000 rows x 1 columns]"
      ]
     },
     "execution_count": 7,
     "metadata": {},
     "output_type": "execute_result"
    }
   ],
   "source": [
    "df"
   ]
  },
  {
   "cell_type": "code",
   "execution_count": 11,
   "id": "10182b07",
   "metadata": {
    "scrolled": true
   },
   "outputs": [
    {
     "data": {
      "image/png": "[encoded data removed]",
      "text/plain": [
       "<Figure size 434.875x360 with 1 Axes>"
      ]
     },
     "metadata": {
      "needs_background": "light"
     },
     "output_type": "display_data"
    }
   ],
   "source": [
    "sns.displot(df)\n",
    "None"
   ]
  },
  {
   "cell_type": "code",
   "execution_count": 12,
   "id": "c1a30c9d",
   "metadata": {},
   "outputs": [],
   "source": [
    "list_of_medians = []\n",
    "\n",
    "\n",
    "for i in range(len(df)):\n",
    "    median = df['number'].sample(len(df), replace=True)\n",
    "    list_of_medians.append(np.median(median))"
   ]
  },
  {
   "cell_type": "code",
   "execution_count": 15,
   "id": "b49a3788",
   "metadata": {},
   "outputs": [],
   "source": [
    "new_df = pd.DataFrame(list_of_medians)"
   ]
  },
  {
   "cell_type": "code",
   "execution_count": 21,
   "id": "b33bf306",
   "metadata": {},
   "outputs": [
    {
     "data": {
      "image/png": "[encoded data removed]",
      "text/plain": [
       "<Figure size 432x288 with 1 Axes>"
      ]
     },
     "metadata": {
      "needs_background": "light"
     },
     "output_type": "display_data"
    }
   ],
   "source": [
    "new_df.plot.hist()\n",
    "None\n"
   ]
  },
  {
   "cell_type": "code",
   "execution_count": 17,
   "id": "a7e08af5",
   "metadata": {},
   "outputs": [],
   "source": [
    "left_quant = (1 - 0.95)/2\n",
    "right_quant = 1 - (1 - 0.95) / 2\n",
    "ci = new_df.quantile([left_quant, right_quant])"
   ]
  },
  {
   "cell_type": "code",
   "execution_count": 18,
   "id": "55048674",
   "metadata": {},
   "outputs": [
    {
     "data": {
      "text/html": [
       "<div>\n",
       "<style scoped>\n",
       "    .dataframe tbody tr th:only-of-type {\n",
       "        vertical-align: middle;\n",
       "    }\n",
       "\n",
       "    .dataframe tbody tr th {\n",
       "        vertical-align: top;\n",
       "    }\n",
       "\n",
       "    .dataframe thead th {\n",
       "        text-align: right;\n",
       "    }\n",
       "</style>\n",
       "<table border=\"1\" class=\"dataframe\">\n",
       "  <thead>\n",
       "    <tr style=\"text-align: right;\">\n",
       "      <th></th>\n",
       "      <th>0</th>\n",
       "    </tr>\n",
       "  </thead>\n",
       "  <tbody>\n",
       "    <tr>\n",
       "      <th>0.025</th>\n",
       "      <td>198.9875</td>\n",
       "    </tr>\n",
       "    <tr>\n",
       "      <th>0.975</th>\n",
       "      <td>243.0000</td>\n",
       "    </tr>\n",
       "  </tbody>\n",
       "</table>\n",
       "</div>"
      ],
      "text/plain": [
       "              0\n",
       "0.025  198.9875\n",
       "0.975  243.0000"
      ]
     },
     "execution_count": 18,
     "metadata": {},
     "output_type": "execute_result"
    }
   ],
   "source": [
    "ci"
   ]
  },
  {
   "cell_type": "code",
   "execution_count": null,
   "id": "adc7b2ec",
   "metadata": {},
   "outputs": [],
   "source": []
  }
 ],
 "metadata": {
  "kernelspec": {
   "display_name": "Python 3",
   "language": "python",
   "name": "python3"
  },
  "language_info": {
   "codemirror_mode": {
    "name": "ipython",
    "version": 3
   },
   "file_extension": ".py",
   "mimetype": "text/x-python",
   "name": "python",
   "nbconvert_exporter": "python",
   "pygments_lexer": "ipython3",
   "version": "3.8.8"
  }
 },
 "nbformat": 4,
 "nbformat_minor": 5
}
